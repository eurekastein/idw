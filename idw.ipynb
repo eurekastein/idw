{
 "cells": [
  {
   "cell_type": "code",
   "execution_count": 2,
   "metadata": {},
   "outputs": [],
   "source": [
    "from math import pow\n",
    "from math import sqrt\n",
    "import numpy as np\n",
    "import matplotlib.pyplot as plt\n",
    "from osgeo import ogr"
   ]
  },
  {
   "cell_type": "code",
   "execution_count": 1,
   "metadata": {},
   "outputs": [],
   "source": [
    "def readPoints(dataFile,Zfield='Z'):\n",
    "    data = {}\n",
    "    xv=[]\n",
    "    yv=[]\n",
    "    values=[]\n",
    "    ds = ogr.Open(dataFile)\n",
    "    if ds is None:\n",
    "       raise Exception('Could not open ' + dataFile)\n",
    "    \n",
    "    layer = ds.GetLayer()\n",
    "    proj = layer.GetSpatialRef()\n",
    "    extent = layer.GetExtent()\n",
    "\n",
    "    feature = layer.GetNextFeature()\n",
    "    if feature.GetFieldIndex(zField) == -1:\n",
    "         raise Exception('zField is not valid: ' + zField)\n",
    "\n",
    "    while feature:\n",
    "        geometry = feature.GetGeometryRef()\n",
    "        xv.append(geometry.GetX())\n",
    "        yv.append(geometry.GetY())\n",
    "        values.append(feature.GetField(zField))\n",
    "\n",
    "        feature = layer.GetNextFeature()\n",
    "    data['extent'] = extent \n",
    "    data['xv']=xv\n",
    "    data['yv']=yv\n",
    "    data['values']=values\n",
    "    data['proj'] = proj\n",
    "    ds = None\n",
    "    return data"
   ]
  },
  {
   "cell_type": "code",
   "execution_count": null,
   "metadata": {},
   "outputs": [],
   "source": [
    "data = readPoints(dataFile,Zfield='Z')"
   ]
  },
  {
   "cell_type": "code",
   "execution_count": 3,
   "metadata": {},
   "outputs": [],
   "source": [
    "def invDist(xv,yv,values,geotransform,proj,xSize,ySize,power,smoothing,driverName,outFile):\n",
    "    #Transform geographic coordinates to pixels\n",
    "    for i in range(0,len(xv)):\n",
    "         xv[i] = (xv[i]-geotransform[0])/geotransform[1]\n",
    "    for i in range(0,len(yv)):\n",
    "         yv[i] = (yv[i]-geotransform[3])/geotransform[5]\n",
    "    #Creating the file\n",
    "    driver = gdal.GetDriverByName( driverName )\n",
    "    ds = driver.Create( outFile, xSize, ySize, 1, gdal.GDT_Float32)\n",
    "    if proj is not None:\n",
    "        ds.SetProjection(proj.ExportToWkt())\n",
    "    ds.SetGeoTransform(geotransform)\n",
    "    valuesGrid = np.zeros((ySize,xSize))\n",
    "    #Getting the interpolated values\n",
    "    for x in range(0,xSize):\n",
    "        for y in range(0,ySize):\n",
    "            valuesGrid[y][x] = pointValue(x,y,power,smoothing,xv,yv,values)\n",
    "    \n",
    "    ds.GetRasterBand(1).WriteArray(valuesGrid)\n",
    "    ds = None\n",
    "    return valuesGrid"
   ]
  }
 ],
 "metadata": {
  "kernelspec": {
   "display_name": "Python 3",
   "language": "python",
   "name": "python3"
  },
  "language_info": {
   "codemirror_mode": {
    "name": "ipython",
    "version": 3
   },
   "file_extension": ".py",
   "mimetype": "text/x-python",
   "name": "python",
   "nbconvert_exporter": "python",
   "pygments_lexer": "ipython3",
   "version": "3.6.6"
  }
 },
 "nbformat": 4,
 "nbformat_minor": 2
}
